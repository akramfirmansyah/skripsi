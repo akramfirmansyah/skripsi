{
 "cells": [
  {
   "cell_type": "code",
   "execution_count": 47,
   "metadata": {},
   "outputs": [],
   "source": [
    "import influxdb_client\n",
    "import pandas as pd\n",
    "import matplotlib.pyplot as plt"
   ]
  },
  {
   "cell_type": "code",
   "execution_count": 48,
   "metadata": {},
   "outputs": [],
   "source": [
    "token = \"lYtO30KjJmXRezB7nJaWbhUYHV7z9wKAtezFOmNyUtyakGE_Tlln5gMsWSwFy0S-lQSiqGtvhmRE3X7bbEABZw==\"\n",
    "org = \"sgh\"\n",
    "url = \"http://0.0.0.0:8086\""
   ]
  },
  {
   "cell_type": "code",
   "execution_count": 49,
   "metadata": {},
   "outputs": [],
   "source": [
    "client = influxdb_client.InfluxDBClient(url=url, token=token, org=org)"
   ]
  },
  {
   "cell_type": "code",
   "execution_count": 50,
   "metadata": {},
   "outputs": [],
   "source": [
    "query_api = client.query_api()"
   ]
  },
  {
   "cell_type": "code",
   "execution_count": 53,
   "metadata": {},
   "outputs": [],
   "source": [
    "query = \"\"\"from(bucket: \"aeroponics\")\n",
    "  |> range(start: 2024-11-01T10:21:00Z)\n",
    "  |> filter(fn: (r) => r[\"_measurement\"] == \"first\")\n",
    "  |> filter(fn: (r) => r[\"_field\"] == \"humidity\")\n",
    "  |> aggregateWindow(every: 1m, fn: mean, createEmpty: false)\n",
    "  |> yield(name: \"mean\")\"\"\"\n",
    "tables = query_api.query(query, org=\"sgh\")"
   ]
  },
  {
   "cell_type": "code",
   "execution_count": 54,
   "metadata": {},
   "outputs": [
    {
     "data": {
      "text/html": [
       "<div>\n",
       "<style scoped>\n",
       "    .dataframe tbody tr th:only-of-type {\n",
       "        vertical-align: middle;\n",
       "    }\n",
       "\n",
       "    .dataframe tbody tr th {\n",
       "        vertical-align: top;\n",
       "    }\n",
       "\n",
       "    .dataframe thead th {\n",
       "        text-align: right;\n",
       "    }\n",
       "</style>\n",
       "<table border=\"1\" class=\"dataframe\">\n",
       "  <thead>\n",
       "    <tr style=\"text-align: right;\">\n",
       "      <th></th>\n",
       "      <th>airTemperature</th>\n",
       "    </tr>\n",
       "    <tr>\n",
       "      <th>datetime</th>\n",
       "      <th></th>\n",
       "    </tr>\n",
       "  </thead>\n",
       "  <tbody>\n",
       "    <tr>\n",
       "      <th>2024-12-16 05:13:00+00:00</th>\n",
       "      <td>58.327500</td>\n",
       "    </tr>\n",
       "    <tr>\n",
       "      <th>2024-12-16 05:14:00+00:00</th>\n",
       "      <td>52.215333</td>\n",
       "    </tr>\n",
       "    <tr>\n",
       "      <th>2024-12-16 05:15:00+00:00</th>\n",
       "      <td>49.499667</td>\n",
       "    </tr>\n",
       "    <tr>\n",
       "      <th>2024-12-16 05:16:00+00:00</th>\n",
       "      <td>53.409500</td>\n",
       "    </tr>\n",
       "    <tr>\n",
       "      <th>2024-12-16 05:17:00+00:00</th>\n",
       "      <td>46.871167</td>\n",
       "    </tr>\n",
       "    <tr>\n",
       "      <th>2024-12-16 05:18:00+00:00</th>\n",
       "      <td>49.645667</td>\n",
       "    </tr>\n",
       "    <tr>\n",
       "      <th>2024-12-16 05:19:00+00:00</th>\n",
       "      <td>44.098167</td>\n",
       "    </tr>\n",
       "    <tr>\n",
       "      <th>2024-12-16 05:20:00+00:00</th>\n",
       "      <td>44.675833</td>\n",
       "    </tr>\n",
       "    <tr>\n",
       "      <th>2024-12-16 05:21:00+00:00</th>\n",
       "      <td>47.833167</td>\n",
       "    </tr>\n",
       "    <tr>\n",
       "      <th>2024-12-16 05:22:00+00:00</th>\n",
       "      <td>47.185167</td>\n",
       "    </tr>\n",
       "    <tr>\n",
       "      <th>2024-12-16 05:23:00+00:00</th>\n",
       "      <td>6.750000</td>\n",
       "    </tr>\n",
       "  </tbody>\n",
       "</table>\n",
       "</div>"
      ],
      "text/plain": [
       "                           airTemperature\n",
       "datetime                                 \n",
       "2024-12-16 05:13:00+00:00       58.327500\n",
       "2024-12-16 05:14:00+00:00       52.215333\n",
       "2024-12-16 05:15:00+00:00       49.499667\n",
       "2024-12-16 05:16:00+00:00       53.409500\n",
       "2024-12-16 05:17:00+00:00       46.871167\n",
       "2024-12-16 05:18:00+00:00       49.645667\n",
       "2024-12-16 05:19:00+00:00       44.098167\n",
       "2024-12-16 05:20:00+00:00       44.675833\n",
       "2024-12-16 05:21:00+00:00       47.833167\n",
       "2024-12-16 05:22:00+00:00       47.185167\n",
       "2024-12-16 05:23:00+00:00        6.750000"
      ]
     },
     "execution_count": 54,
     "metadata": {},
     "output_type": "execute_result"
    }
   ],
   "source": [
    "data = []\n",
    "for table in tables:\n",
    "    for record in table.records:\n",
    "        data.append({\n",
    "            \"datetime\": record.get_time(),\n",
    "            \"airTemperature\": record.get_value(),\n",
    "        })\n",
    "df = pd.DataFrame(data)\n",
    "df['datetime'] = pd.to_datetime(df['datetime'])\n",
    "df = df.set_index('datetime').asfreq(\"1min\")\n",
    "df"
   ]
  },
  {
   "cell_type": "code",
   "execution_count": 9,
   "metadata": {},
   "outputs": [],
   "source": [
    "import csv\n",
    "import os\n",
    "\n",
    "# Define the header and data\n",
    "header = [\"mae\", \"mape\", \"rmse\"]\n",
    "data = [0.31, 0.1, 0.2]\n",
    "\n",
    "# Check if the file exists and has a header\n",
    "file_exists = os.path.isfile('metrix_log.csv')\n",
    "header_exists = False\n",
    "\n",
    "if file_exists:\n",
    "    with open('metrix_log.csv', 'r') as file:\n",
    "        reader = csv.reader(file)\n",
    "        # Check the first row to see if it's the header\n",
    "        header_exists = any(row == header for row in reader)\n",
    "\n",
    "# Open the file in append mode\n",
    "with open('metrix_log.csv', 'a', newline='') as file:\n",
    "    writer = csv.writer(file)\n",
    "    # Write the header if it doesn't exist\n",
    "    if not header_exists:\n",
    "        writer.writerow(header)\n",
    "    # Write the data\n",
    "    writer.writerow(data)\n"
   ]
  },
  {
   "cell_type": "code",
   "execution_count": 2,
   "metadata": {},
   "outputs": [
    {
     "data": {
      "text/plain": [
       "xgboost.sklearn.XGBRegressor"
      ]
     },
     "execution_count": 2,
     "metadata": {},
     "output_type": "execute_result"
    }
   ],
   "source": [
    "import pickle\n",
    "\n",
    "model = pickle.load(open(\"model/XGBoost_airTemperature.pkl\", 'rb'))\n",
    "type(model)"
   ]
  },
  {
   "cell_type": "code",
   "execution_count": 5,
   "metadata": {},
   "outputs": [
    {
     "data": {
      "text/html": [
       "<div>\n",
       "<style scoped>\n",
       "    .dataframe tbody tr th:only-of-type {\n",
       "        vertical-align: middle;\n",
       "    }\n",
       "\n",
       "    .dataframe tbody tr th {\n",
       "        vertical-align: top;\n",
       "    }\n",
       "\n",
       "    .dataframe thead th {\n",
       "        text-align: right;\n",
       "    }\n",
       "</style>\n",
       "<table border=\"1\" class=\"dataframe\">\n",
       "  <thead>\n",
       "    <tr style=\"text-align: right;\">\n",
       "      <th></th>\n",
       "      <th>airTemperature</th>\n",
       "      <th>humidity</th>\n",
       "    </tr>\n",
       "    <tr>\n",
       "      <th>datetime</th>\n",
       "      <th></th>\n",
       "      <th></th>\n",
       "    </tr>\n",
       "  </thead>\n",
       "  <tbody>\n",
       "    <tr>\n",
       "      <th>2024-12-24 16:57:23</th>\n",
       "      <td>25.170654</td>\n",
       "      <td>101.503448</td>\n",
       "    </tr>\n",
       "    <tr>\n",
       "      <th>2024-12-24 16:58:23</th>\n",
       "      <td>25.170654</td>\n",
       "      <td>101.503448</td>\n",
       "    </tr>\n",
       "    <tr>\n",
       "      <th>2024-12-24 16:59:23</th>\n",
       "      <td>25.170654</td>\n",
       "      <td>101.503448</td>\n",
       "    </tr>\n",
       "    <tr>\n",
       "      <th>2024-12-24 17:00:23</th>\n",
       "      <td>25.208376</td>\n",
       "      <td>101.515755</td>\n",
       "    </tr>\n",
       "    <tr>\n",
       "      <th>2024-12-24 17:01:23</th>\n",
       "      <td>25.208376</td>\n",
       "      <td>101.515755</td>\n",
       "    </tr>\n",
       "    <tr>\n",
       "      <th>...</th>\n",
       "      <td>...</td>\n",
       "      <td>...</td>\n",
       "    </tr>\n",
       "    <tr>\n",
       "      <th>2024-12-25 16:52:23</th>\n",
       "      <td>26.169426</td>\n",
       "      <td>95.026764</td>\n",
       "    </tr>\n",
       "    <tr>\n",
       "      <th>2024-12-25 16:53:23</th>\n",
       "      <td>26.169426</td>\n",
       "      <td>95.026764</td>\n",
       "    </tr>\n",
       "    <tr>\n",
       "      <th>2024-12-25 16:54:23</th>\n",
       "      <td>26.169426</td>\n",
       "      <td>95.026764</td>\n",
       "    </tr>\n",
       "    <tr>\n",
       "      <th>2024-12-25 16:55:23</th>\n",
       "      <td>26.169426</td>\n",
       "      <td>95.026764</td>\n",
       "    </tr>\n",
       "    <tr>\n",
       "      <th>2024-12-25 16:56:23</th>\n",
       "      <td>26.169426</td>\n",
       "      <td>95.026764</td>\n",
       "    </tr>\n",
       "  </tbody>\n",
       "</table>\n",
       "<p>1440 rows × 2 columns</p>\n",
       "</div>"
      ],
      "text/plain": [
       "                     airTemperature    humidity\n",
       "datetime                                       \n",
       "2024-12-24 16:57:23       25.170654  101.503448\n",
       "2024-12-24 16:58:23       25.170654  101.503448\n",
       "2024-12-24 16:59:23       25.170654  101.503448\n",
       "2024-12-24 17:00:23       25.208376  101.515755\n",
       "2024-12-24 17:01:23       25.208376  101.515755\n",
       "...                             ...         ...\n",
       "2024-12-25 16:52:23       26.169426   95.026764\n",
       "2024-12-25 16:53:23       26.169426   95.026764\n",
       "2024-12-25 16:54:23       26.169426   95.026764\n",
       "2024-12-25 16:55:23       26.169426   95.026764\n",
       "2024-12-25 16:56:23       26.169426   95.026764\n",
       "\n",
       "[1440 rows x 2 columns]"
      ]
     },
     "execution_count": 5,
     "metadata": {},
     "output_type": "execute_result"
    }
   ],
   "source": [
    "from index import AdaptiveControll\n",
    "\n",
    "adaptiveControll = AdaptiveControll()\n",
    "\n",
    "df = adaptiveControll.predict()\n",
    "df"
   ]
  },
  {
   "cell_type": "code",
   "execution_count": 17,
   "metadata": {},
   "outputs": [
    {
     "data": {
      "text/plain": [
       "1440"
      ]
     },
     "execution_count": 17,
     "metadata": {},
     "output_type": "execute_result"
    }
   ],
   "source": [
    "delay = adaptiveControll.FuzzyLogicNutrientPump(df.iloc[index]['airTemperature'], df.iloc[index]['humidity'])"
   ]
  },
  {
   "cell_type": "code",
   "execution_count": 76,
   "metadata": {},
   "outputs": [
    {
     "name": "stdout",
     "output_type": "stream",
     "text": [
      "1440\n"
     ]
    }
   ],
   "source": [
    "import pandas as pd\n",
    "\n",
    "def compute() -> pd.DataFrame:\n",
    "    delay_arr = []\n",
    "    for index in range(len(df)):\n",
    "        delay = adaptiveControll.FuzzyLogicNutrientPump(df.iloc[index]['airTemperature'], df.iloc[index]['humidity'])\n",
    "\n",
    "compute()"
   ]
  }
 ],
 "metadata": {
  "kernelspec": {
   "display_name": "venv-index",
   "language": "python",
   "name": "python3"
  },
  "language_info": {
   "codemirror_mode": {
    "name": "ipython",
    "version": 3
   },
   "file_extension": ".py",
   "mimetype": "text/x-python",
   "name": "python",
   "nbconvert_exporter": "python",
   "pygments_lexer": "ipython3",
   "version": "3.10.12"
  }
 },
 "nbformat": 4,
 "nbformat_minor": 2
}
